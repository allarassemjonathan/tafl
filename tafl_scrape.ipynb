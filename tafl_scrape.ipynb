{
  "nbformat": 4,
  "nbformat_minor": 0,
  "metadata": {
    "colab": {
      "provenance": [],
      "authorship_tag": "ABX9TyOFh1wljIpD1yUaqxu+V+sq",
      "include_colab_link": true
    },
    "kernelspec": {
      "name": "python3",
      "display_name": "Python 3"
    },
    "language_info": {
      "name": "python"
    }
  },
  "cells": [
    {
      "cell_type": "markdown",
      "metadata": {
        "id": "view-in-github",
        "colab_type": "text"
      },
      "source": [
        "<a href=\"https://colab.research.google.com/github/allarassemjonathan/tafl/blob/main/tafl_scrape.ipynb\" target=\"_parent\"><img src=\"https://colab.research.google.com/assets/colab-badge.svg\" alt=\"Open In Colab\"/></a>"
      ]
    },
    {
      "cell_type": "code",
      "execution_count": null,
      "metadata": {
        "id": "zkgFjFKrsXCb"
      },
      "outputs": [],
      "source": [
        "import requests"
      ]
    },
    {
      "cell_type": "code",
      "source": [
        "headers = {\n",
        "    'user-agent': 'Mozilla/5.0 (Windows NT 10.0; Win64; x64) AppleWebKit/537.36 (KHTML, like Gecko) Chrome/75.0.3770.142 Safari/537.36'\n",
        "}"
      ],
      "metadata": {
        "id": "xNWOYrbQtpUE"
      },
      "execution_count": null,
      "outputs": []
    },
    {
      "cell_type": "code",
      "source": [
        "first_search_page = requests.get('http://aagenielsen.dk/visallespil_soeg.php?alt=1', headers=headers)"
      ],
      "metadata": {
        "id": "gm6fZepuseFG"
      },
      "execution_count": null,
      "outputs": []
    },
    {
      "cell_type": "code",
      "source": [
        "!pip install beautifulsoup4"
      ],
      "metadata": {
        "colab": {
          "base_uri": "https://localhost:8080/"
        },
        "id": "64Zzxv6tsl33",
        "outputId": "b5744702-7201-4d2a-9e3e-47da641ad6ec"
      },
      "execution_count": null,
      "outputs": [
        {
          "output_type": "stream",
          "name": "stdout",
          "text": [
            "Requirement already satisfied: beautifulsoup4 in /usr/local/lib/python3.10/dist-packages (4.11.2)\n",
            "Requirement already satisfied: soupsieve>1.2 in /usr/local/lib/python3.10/dist-packages (from beautifulsoup4) (2.5)\n"
          ]
        }
      ]
    },
    {
      "cell_type": "code",
      "source": [
        "from bs4 import BeautifulSoup"
      ],
      "metadata": {
        "id": "2l0JLF3FuOEH"
      },
      "execution_count": null,
      "outputs": []
    },
    {
      "cell_type": "code",
      "source": [
        "soup = BeautifulSoup(first_search_page.content, 'html.parser')"
      ],
      "metadata": {
        "id": "H5oFBFJRuR9V"
      },
      "execution_count": null,
      "outputs": []
    },
    {
      "cell_type": "code",
      "source": [
        "first_body = {\n",
        "    'spiltype': '16'\n",
        "}\n",
        "list_page = requests.post('http://aagenielsen.dk/visallespil.php', data=first_body,headers=headers)"
      ],
      "metadata": {
        "id": "TGRNaJjev5ln"
      },
      "execution_count": null,
      "outputs": []
    },
    {
      "cell_type": "code",
      "source": [
        "list_soup = BeautifulSoup(list_page.content, 'html.parser')"
      ],
      "metadata": {
        "id": "AYNH3GqywOwX"
      },
      "execution_count": null,
      "outputs": []
    },
    {
      "cell_type": "code",
      "source": [
        "all_games = list_soup.find_all('table')[1].find_all('tr')"
      ],
      "metadata": {
        "id": "kJ_iokIEwe8H"
      },
      "execution_count": null,
      "outputs": []
    },
    {
      "cell_type": "code",
      "source": [
        "game_list_tds = [game.find_all('td')[1] for game in all_games]"
      ],
      "metadata": {
        "id": "Ue6VzSJs0KSa"
      },
      "execution_count": null,
      "outputs": []
    },
    {
      "cell_type": "code",
      "source": [
        "move_list_pages = []\n",
        "for game in game_list_tds:\n",
        "  inputs = game.find_all('input')\n",
        "  data = {\n",
        "      'spil': inputs[0][\"value\"],\n",
        "      'pw': inputs[1][\"value\"]\n",
        "  }\n",
        "  game_req = requests.post('http://aagenielsen.dk/visspil.php',data=data,headers=headers)\n",
        "  move_list_pages.append(game_req.content)"
      ],
      "metadata": {
        "id": "wGWPxnJK0R_Y"
      },
      "execution_count": null,
      "outputs": []
    },
    {
      "cell_type": "code",
      "source": [
        "move_list_soup = [BeautifulSoup(page, 'html.parser') for page in move_list_pages]"
      ],
      "metadata": {
        "id": "MKSsx7Hbyd2x"
      },
      "execution_count": null,
      "outputs": []
    },
    {
      "cell_type": "code",
      "source": [
        "move_tables = [soup.table for soup in move_list_soup]"
      ],
      "metadata": {
        "id": "RVCaHAi97uJ6"
      },
      "execution_count": null,
      "outputs": []
    },
    {
      "cell_type": "code",
      "source": [
        "get_str = lambda x: x.string.split(' ')[0]"
      ],
      "metadata": {
        "id": "z-oAojV09AL3"
      },
      "execution_count": null,
      "outputs": []
    },
    {
      "cell_type": "code",
      "source": [
        "game_move_tuples = [(list(map(get_str, table.find_all('td')[1::3])), list(map(get_str, table.find_all('td')[2::3]))) for table in move_tables]"
      ],
      "metadata": {
        "id": "RZb86wtr8N7A"
      },
      "execution_count": null,
      "outputs": []
    },
    {
      "cell_type": "code",
      "source": [
        "games = [{'black': moves[0][1:], 'white':moves[1][1:]} for moves in game_move_tuples]"
      ],
      "metadata": {
        "id": "JFradkBt9psa"
      },
      "execution_count": null,
      "outputs": []
    },
    {
      "cell_type": "code",
      "source": [
        "tournament_indices = []\n",
        "outcomes = []\n",
        "for i, row in enumerate(all_games):\n",
        "  txt = row.find_all('td')[2].get_text().lower()\n",
        "  if 'tournament' in txt:\n",
        "    tournament_indices.append(i)\n",
        "  outcome = 'white' if 'white' in txt else 'black' if 'black' in txt else 'draw' if 'draw' in txt else 'ongoing' if 'ongoing' in txt else None\n",
        "  outcomes.append(outcome)\n",
        "  games[i]['outcome'] = outcome\n",
        "len(tournament_indices)"
      ],
      "metadata": {
        "colab": {
          "base_uri": "https://localhost:8080/"
        },
        "id": "g6DwEgM9IY1x",
        "outputId": "a809d79b-13d8-4bde-e8cd-953c5001f540"
      },
      "execution_count": null,
      "outputs": [
        {
          "output_type": "execute_result",
          "data": {
            "text/plain": [
              "703"
            ]
          },
          "metadata": {},
          "execution_count": 104
        }
      ]
    },
    {
      "cell_type": "code",
      "source": [
        "tournament_games =[games[i] for i in tournament_indices]"
      ],
      "metadata": {
        "id": "PKzBPLCVLKqC"
      },
      "execution_count": null,
      "outputs": []
    },
    {
      "cell_type": "code",
      "source": [
        "game_lens = [len(game['white']) + len(game['black']) for game in tournament_games]"
      ],
      "metadata": {
        "id": "R69igNSWOlSX"
      },
      "execution_count": null,
      "outputs": []
    },
    {
      "cell_type": "code",
      "source": [
        "sum(game_lens)/len(game_lens)"
      ],
      "metadata": {
        "colab": {
          "base_uri": "https://localhost:8080/"
        },
        "id": "sBLiXFMoO3aZ",
        "outputId": "55085de2-d59a-4cd7-8df4-09c451beee64"
      },
      "execution_count": null,
      "outputs": [
        {
          "output_type": "execute_result",
          "data": {
            "text/plain": [
              "54.90611664295875"
            ]
          },
          "metadata": {},
          "execution_count": 109
        }
      ]
    },
    {
      "cell_type": "code",
      "source": [
        "len(list(filter(lambda x:x['outcome']=='white',tournament_games)))/len(tournament_games)"
      ],
      "metadata": {
        "colab": {
          "base_uri": "https://localhost:8080/"
        },
        "id": "du4v5mKqPmfY",
        "outputId": "80bbd6d7-d455-4125-8708-60db0c6ff87b"
      },
      "execution_count": null,
      "outputs": [
        {
          "output_type": "execute_result",
          "data": {
            "text/plain": [
              "0.5547652916073968"
            ]
          },
          "metadata": {},
          "execution_count": 113
        }
      ]
    }
  ]
}